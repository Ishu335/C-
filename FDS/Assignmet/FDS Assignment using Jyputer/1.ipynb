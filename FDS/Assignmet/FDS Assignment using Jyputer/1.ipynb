{
 "cells": [
  {
   "cell_type": "code",
   "execution_count": null,
   "metadata": {},
   "outputs": [],
   "source": [
    "print(\"\\n\\n\\t *** ::::: Subject Data Structures and Algorithms ::::: ***\")\n",
    "N={\"A\":12,\"B\":34,\"C\":45 ,\"D\":0,}\n",
    "N1=sorted(N.values())\n",
    "N1.remove(0)\n",
    "print(N1)\n",
    "print(\"\\ni. The average score of class\",sum(list(map(int,N.values())))/len(N))\n",
    "print(\"\\n Highest score \",max(N.values()))\n",
    "print(\"\\n Lowest score of class\", N1[0])\n",
    "print(\"\\n List of students who were absent for the test\")\n",
    "for i in N.keys():\n",
    "    if N.get(i) == 0 :\n",
    "        print(\"\\n \",i)\n",
    "\n",
    "    \n"
   ]
  },
  {
   "cell_type": "code",
   "execution_count": null,
   "metadata": {},
   "outputs": [],
   "source": [
    "print(\"\\ni. The average score of class\",sum(list(map(int,N.values())))/len(N))\n",
    "print(\"\\n Highest score \",max(N.values()))\n",
    "print(\"\\n Lowest score of class\", N1[0])\n",
    "print(\"\\n List of students who were absent for the test\")"
   ]
  },
  {
   "cell_type": "code",
   "execution_count": 1,
   "metadata": {},
   "outputs": [
    {
     "name": "stdout",
     "output_type": "stream",
     "text": [
      "180 is present at index 2\n"
     ]
    }
   ],
   "source": [
    "# Python3 implementation of the approach\n",
    "# Function to search key in the given array\n",
    "\n",
    "\n",
    "def sentinelSearch(arr, n, key):\n",
    "\n",
    "\t# Last element of the array\n",
    "\tlast = arr[n - 1]\n",
    "\n",
    "\t# Element to be searched is\n",
    "\t# placed at the last index\n",
    "\tarr[n - 1] = key\n",
    "\ti = 0\n",
    "\n",
    "\twhile (arr[i] != key):\n",
    "\t\ti += 1\n",
    "\n",
    "\t# Put the last element back\n",
    "\tarr[n - 1] = last\n",
    "\n",
    "\tif ((i < n - 1) or (arr[n - 1] == key)):\n",
    "\t\tprint(key, \"is present at index\", i)\n",
    "        print(arr)\n",
    "\telse:\n",
    "\t\tprint(\"Element Not found\")\n",
    "\n",
    "# Driver code\n",
    "arr = [10, 20, 180, 30, 60, 50, 110, 100, 70]\n",
    "n = len(arr)\n",
    "key = 180\n",
    "\n",
    "sentinelSearch(arr, n, key)\n",
    "\n",
    "# This code is contributed by divyamohan123, Mandeep Dalavi\n"
   ]
  }
 ],
 "metadata": {
  "kernelspec": {
   "display_name": "Python 3",
   "language": "python",
   "name": "python3"
  },
  "language_info": {
   "codemirror_mode": {
    "name": "ipython",
    "version": 3
   },
   "file_extension": ".py",
   "mimetype": "text/x-python",
   "name": "python",
   "nbconvert_exporter": "python",
   "pygments_lexer": "ipython3",
   "version": "3.10.9 (tags/v3.10.9:1dd9be6, Dec  6 2022, 20:01:21) [MSC v.1934 64 bit (AMD64)]"
  },
  "orig_nbformat": 4,
  "vscode": {
   "interpreter": {
    "hash": "0765765136812bdbe7df5f2653cfa8426cb760d166722c0b977acbe221ff14b2"
   }
  }
 },
 "nbformat": 4,
 "nbformat_minor": 2
}
